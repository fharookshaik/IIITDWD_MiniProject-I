{
  "nbformat": 4,
  "nbformat_minor": 0,
  "metadata": {
    "colab": {
      "name": "LSTM_Text.ipynb",
      "provenance": [],
      "collapsed_sections": []
    },
    "kernelspec": {
      "name": "python3",
      "display_name": "Python 3"
    },
    "language_info": {
      "name": "python"
    },
    "accelerator": "GPU"
  },
  "cells": [
    {
      "cell_type": "code",
      "metadata": {
        "colab": {
          "base_uri": "https://localhost:8080/"
        },
        "id": "AYc6-DiqEMZZ",
        "outputId": "5d665dfb-0139-426e-d91b-b126028a4861"
      },
      "source": [
        "from google.colab import drive\n",
        " \n",
        "drive.mount('/content/drive')"
      ],
      "execution_count": null,
      "outputs": [
        {
          "output_type": "stream",
          "text": [
            "Mounted at /content/drive\n"
          ],
          "name": "stdout"
        }
      ]
    },
    {
      "cell_type": "code",
      "metadata": {
        "id": "bpsVGYDPEZ61"
      },
      "source": [
        "import numpy as np\n",
        "import tensorflow as tf\n",
        "import pandas as pd\n",
        "from pathlib import Path\n",
        "import seaborn as sns\n",
        "import matplotlib.pyplot as plt\n",
        "from sklearn.model_selection import train_test_split\n",
        "from sklearn.preprocessing import LabelEncoder\n",
        "from keras.models import Model\n",
        "from keras.layers import LSTM, Activation, Dense, Dropout, Input, Embedding\n",
        "from sklearn.utils import shuffle\n",
        "from keras.utils import to_categorical\n",
        "%matplotlib inline"
      ],
      "execution_count": null,
      "outputs": []
    },
    {
      "cell_type": "code",
      "metadata": {
        "id": "0PRH221-EdWL"
      },
      "source": [
        "TRAIN_CSV_PATH = r'/content/drive/MyDrive/Group_13/Text Proccesing/DATASET_10/TRAIN/multimodal_train.csv'\n",
        "TEST_CSV_PATH = r'/content/drive/MyDrive/Group_13/Text Proccesing/DATASET_10/TEST/multimodal_test.csv'\n",
        "VALIDATE_CSV_PATH = r'/content/drive/MyDrive/Group_13/Text Proccesing/DATASET_10/VALIDATE/multimodal_validate.csv'"
      ],
      "execution_count": null,
      "outputs": []
    },
    {
      "cell_type": "code",
      "metadata": {
        "id": "qlYXK-m0ElOy"
      },
      "source": [
        "train_df = pd.read_csv(TRAIN_CSV_PATH)\n",
        "train_df = shuffle(train_df)"
      ],
      "execution_count": null,
      "outputs": []
    },
    {
      "cell_type": "code",
      "metadata": {
        "colab": {
          "base_uri": "https://localhost:8080/"
        },
        "id": "F7_8F041E6sL",
        "outputId": "d6de3b81-53a9-4be9-9afa-c5e57bc49453"
      },
      "source": [
        "X_train = train_df.iloc[:,3].values\n",
        "X_train"
      ],
      "execution_count": null,
      "outputs": [
        {
          "output_type": "execute_result",
          "data": {
            "text/plain": [
              "array(['are you there mate',\n",
              "       'how many people havent had sex in the past month',\n",
              "       'romanian farmville fans claim ps in government subsidies for fake cows',\n",
              "       ...,\n",
              "       'student shakes off threats to win miss iraq in name of womens rights',\n",
              "       'the album cover of shouting and pointing by mott featuring you guessed it shouting and pointing',\n",
              "       'oh no hes multiplying'], dtype=object)"
            ]
          },
          "metadata": {
            "tags": []
          },
          "execution_count": 5
        }
      ]
    },
    {
      "cell_type": "code",
      "metadata": {
        "colab": {
          "base_uri": "https://localhost:8080/"
        },
        "id": "eR4RJo7iFKXX",
        "outputId": "db9a3986-8f6a-4e1a-cd6e-e2dd8948942a"
      },
      "source": [
        "y_train = train_df.iloc[:,15].values\n",
        "y_train"
      ],
      "execution_count": null,
      "outputs": [
        {
          "output_type": "execute_result",
          "data": {
            "text/plain": [
              "array([0, 1, 1, ..., 1, 1, 0])"
            ]
          },
          "metadata": {
            "tags": []
          },
          "execution_count": 6
        }
      ]
    },
    {
      "cell_type": "code",
      "metadata": {
        "colab": {
          "base_uri": "https://localhost:8080/"
        },
        "id": "9uSmoNrEFQ05",
        "outputId": "4a77bdb3-b2d8-4482-d9e0-a63aa0697949"
      },
      "source": [
        "print('Shape of training data: ')\n",
        "print(X_train.shape)\n",
        "print(y_train.shape)"
      ],
      "execution_count": null,
      "outputs": [
        {
          "output_type": "stream",
          "text": [
            "Shape of training data: \n",
            "(56400,)\n",
            "(56400,)\n"
          ],
          "name": "stdout"
        }
      ]
    },
    {
      "cell_type": "code",
      "metadata": {
        "id": "v13zrrsFFUj_"
      },
      "source": [
        "test_df = pd.read_csv(TEST_CSV_PATH)\n",
        "test_df = shuffle(test_df)"
      ],
      "execution_count": null,
      "outputs": []
    },
    {
      "cell_type": "code",
      "metadata": {
        "colab": {
          "base_uri": "https://localhost:8080/"
        },
        "id": "UO0Re4b7Fa0y",
        "outputId": "bb47502e-8f40-4e1b-a976-eb80db250042"
      },
      "source": [
        "X_test = test_df.iloc[:,3].values\n",
        "X_test"
      ],
      "execution_count": null,
      "outputs": [
        {
          "output_type": "execute_result",
          "data": {
            "text/plain": [
              "array(['baby peeking through a hole',\n",
              "       'i found a piece of ancient seabed on a california mountain',\n",
              "       'soviet and us forces finally meet in berlin', ...,\n",
              "       'now a days chips bags are packed with nitrogen to protect them but this old new era chip can explains how they protected chips by packing them full',\n",
              "       'dog with elephant shadow', 'this blindfolded food taster'],\n",
              "      dtype=object)"
            ]
          },
          "metadata": {
            "tags": []
          },
          "execution_count": 9
        }
      ]
    },
    {
      "cell_type": "code",
      "metadata": {
        "colab": {
          "base_uri": "https://localhost:8080/"
        },
        "id": "Rr6RvEv1FgB0",
        "outputId": "90dfb1ea-303a-4270-d1cb-324ad4984608"
      },
      "source": [
        "y_test = test_df.iloc[:,15].values\n",
        "y_test"
      ],
      "execution_count": null,
      "outputs": [
        {
          "output_type": "execute_result",
          "data": {
            "text/plain": [
              "array([1, 1, 0, ..., 1, 1, 1])"
            ]
          },
          "metadata": {
            "tags": []
          },
          "execution_count": 10
        }
      ]
    },
    {
      "cell_type": "code",
      "metadata": {
        "colab": {
          "base_uri": "https://localhost:8080/"
        },
        "id": "kkI8ChuyFjc3",
        "outputId": "da986587-1d97-489c-db9a-1417997d7884"
      },
      "source": [
        "print('Shape of test data: ')\n",
        "print(X_test.shape)\n",
        "print(y_test.shape)"
      ],
      "execution_count": null,
      "outputs": [
        {
          "output_type": "stream",
          "text": [
            "Shape of test data: \n",
            "(5930,)\n",
            "(5930,)\n"
          ],
          "name": "stdout"
        }
      ]
    },
    {
      "cell_type": "code",
      "metadata": {
        "id": "9GNKcdwNFpvD"
      },
      "source": [
        "val_df = pd.read_csv(VALIDATE_CSV_PATH)\n",
        "val_df = shuffle(val_df)"
      ],
      "execution_count": null,
      "outputs": []
    },
    {
      "cell_type": "code",
      "metadata": {
        "colab": {
          "base_uri": "https://localhost:8080/"
        },
        "id": "bVtvhhvqFwQ3",
        "outputId": "ac727557-1db7-4ff5-b2bc-c0cbb580ac14"
      },
      "source": [
        "X_val = val_df.iloc[:,3].values\n",
        "X_val"
      ],
      "execution_count": null,
      "outputs": [
        {
          "output_type": "execute_result",
          "data": {
            "text/plain": [
              "array(['there was a double rainbow today',\n",
              "       'charity matchmaker connects givers and receivers',\n",
              "       'please no more', ..., 'this is fry he fries things', 'cutouts',\n",
              "       'taliban sneak back into kandahar dressed as grape farmers'],\n",
              "      dtype=object)"
            ]
          },
          "metadata": {
            "tags": []
          },
          "execution_count": 13
        }
      ]
    },
    {
      "cell_type": "code",
      "metadata": {
        "colab": {
          "base_uri": "https://localhost:8080/"
        },
        "id": "nSi5XgmLFztG",
        "outputId": "c30730e0-0fc6-45bc-8aa7-1196d4e4f882"
      },
      "source": [
        "y_val = val_df.iloc[:,15].values\n",
        "y_val"
      ],
      "execution_count": null,
      "outputs": [
        {
          "output_type": "execute_result",
          "data": {
            "text/plain": [
              "array([1, 1, 0, ..., 0, 0, 1])"
            ]
          },
          "metadata": {
            "tags": []
          },
          "execution_count": 14
        }
      ]
    },
    {
      "cell_type": "code",
      "metadata": {
        "id": "VNiurVU1F3oH"
      },
      "source": [
        "from tensorflow.keras.preprocessing.text import Tokenizer\n",
        "from tensorflow.keras.preprocessing.sequence import pad_sequences"
      ],
      "execution_count": null,
      "outputs": []
    },
    {
      "cell_type": "code",
      "metadata": {
        "id": "gGqfYwfgF65j"
      },
      "source": [
        "max_len = 100\n",
        "max_words = 1000\n",
        "tk = Tokenizer(num_words=max_words,\n",
        "filters='!\"#$%&()*+,-./:;<=>?@[\\]^_`{\"}~\\t\\n',lower=True, split=\" \")\n",
        "tk.fit_on_texts(X_train)\n",
        "X_train_seq = tk.texts_to_sequences(X_train)\n",
        "X_test_seq = tk.texts_to_sequences(X_test)\n",
        "\n",
        "X_train_seq_trunc = pad_sequences(X_train_seq, maxlen=max_len)\n",
        "X_test_seq_trunc = pad_sequences(X_test_seq, maxlen=max_len)"
      ],
      "execution_count": null,
      "outputs": []
    },
    {
      "cell_type": "code",
      "metadata": {
        "id": "oNNImya5F-QL"
      },
      "source": [
        "def RNN():\n",
        "    inputs = tf.keras.Input(name='inputs',shape=[max_len])\n",
        "    layer = Embedding(max_words,50,input_length=max_len)(inputs)\n",
        "    layer = LSTM(64)(layer)\n",
        "    layer = Dense(128,name='FC1')(layer)\n",
        "    layer = Activation('relu')(layer)\n",
        "    layer = Dropout(0.5)(layer)\n",
        "    layer = Dense(1,name='out_layer')(layer)\n",
        "    layer = Activation('sigmoid')(layer)\n",
        "    model = Model(inputs=inputs,outputs=layer)\n",
        "    return model"
      ],
      "execution_count": null,
      "outputs": []
    },
    {
      "cell_type": "code",
      "metadata": {
        "colab": {
          "base_uri": "https://localhost:8080/"
        },
        "id": "Y1U704THHJ1G",
        "outputId": "69fc58e8-b8d4-4b57-a906-eb4add9aadd3"
      },
      "source": [
        "model = RNN()\n",
        "model.summary()\n",
        "model.compile(loss='binary_crossentropy',optimizer=tf.keras.optimizers.RMSprop(),metrics=['accuracy'])"
      ],
      "execution_count": null,
      "outputs": [
        {
          "output_type": "stream",
          "text": [
            "Model: \"model\"\n",
            "_________________________________________________________________\n",
            "Layer (type)                 Output Shape              Param #   \n",
            "=================================================================\n",
            "inputs (InputLayer)          [(None, 100)]             0         \n",
            "_________________________________________________________________\n",
            "embedding (Embedding)        (None, 100, 50)           50000     \n",
            "_________________________________________________________________\n",
            "lstm (LSTM)                  (None, 64)                29440     \n",
            "_________________________________________________________________\n",
            "FC1 (Dense)                  (None, 128)               8320      \n",
            "_________________________________________________________________\n",
            "activation (Activation)      (None, 128)               0         \n",
            "_________________________________________________________________\n",
            "dropout (Dropout)            (None, 128)               0         \n",
            "_________________________________________________________________\n",
            "out_layer (Dense)            (None, 1)                 129       \n",
            "_________________________________________________________________\n",
            "activation_1 (Activation)    (None, 1)                 0         \n",
            "=================================================================\n",
            "Total params: 87,889\n",
            "Trainable params: 87,889\n",
            "Non-trainable params: 0\n",
            "_________________________________________________________________\n"
          ],
          "name": "stdout"
        }
      ]
    },
    {
      "cell_type": "code",
      "metadata": {
        "colab": {
          "base_uri": "https://localhost:8080/",
          "height": 865
        },
        "id": "I2xZptj5Ua3W",
        "outputId": "2cde13f6-2576-4761-965b-f4fe35014ed9"
      },
      "source": [
        "from keras.utils import plot_model\n",
        "plot_model(model,'MODEL.png',show_shapes=True)"
      ],
      "execution_count": null,
      "outputs": [
        {
          "output_type": "execute_result",
          "data": {
            "image/png": "[encoded data removed]",
            "text/plain": [
              "<IPython.core.display.Image object>"
            ]
          },
          "metadata": {
            "tags": []
          },
          "execution_count": 20
        }
      ]
    },
    {
      "cell_type": "code",
      "metadata": {
        "colab": {
          "base_uri": "https://localhost:8080/"
        },
        "id": "u19LtS4TJQDh",
        "outputId": "9014e34e-f084-43f0-af0a-31c662f7fb26"
      },
      "source": [
        "history = model.fit(X_train_seq_trunc ,y_train,epochs=25,\n",
        "          validation_split=0.2)"
      ],
      "execution_count": null,
      "outputs": [
        {
          "output_type": "stream",
          "text": [
            "Epoch 1/25\n",
            "1410/1410 [==============================] - 74s 31ms/step - loss: 0.5519 - accuracy: 0.7151 - val_loss: 0.4804 - val_accuracy: 0.7667\n",
            "Epoch 2/25\n",
            "1410/1410 [==============================] - 43s 30ms/step - loss: 0.4727 - accuracy: 0.7811 - val_loss: 0.4750 - val_accuracy: 0.7718\n",
            "Epoch 3/25\n",
            "1410/1410 [==============================] - 43s 30ms/step - loss: 0.4630 - accuracy: 0.7870 - val_loss: 0.4666 - val_accuracy: 0.7773\n",
            "Epoch 4/25\n",
            "1410/1410 [==============================] - 43s 30ms/step - loss: 0.4645 - accuracy: 0.7856 - val_loss: 0.4716 - val_accuracy: 0.7749\n",
            "Epoch 5/25\n",
            "1410/1410 [==============================] - 43s 30ms/step - loss: 0.4480 - accuracy: 0.7931 - val_loss: 0.4646 - val_accuracy: 0.7791\n",
            "Epoch 6/25\n",
            "1410/1410 [==============================] - 43s 30ms/step - loss: 0.4385 - accuracy: 0.8023 - val_loss: 0.4628 - val_accuracy: 0.7803\n",
            "Epoch 7/25\n",
            "1410/1410 [==============================] - 43s 31ms/step - loss: 0.4335 - accuracy: 0.8023 - val_loss: 0.4647 - val_accuracy: 0.7815\n",
            "Epoch 8/25\n",
            "1410/1410 [==============================] - 43s 30ms/step - loss: 0.4271 - accuracy: 0.8066 - val_loss: 0.4645 - val_accuracy: 0.7793\n",
            "Epoch 9/25\n",
            "1410/1410 [==============================] - 43s 31ms/step - loss: 0.4236 - accuracy: 0.8086 - val_loss: 0.4803 - val_accuracy: 0.7778\n",
            "Epoch 10/25\n",
            "1410/1410 [==============================] - 43s 30ms/step - loss: 0.4229 - accuracy: 0.8103 - val_loss: 0.4709 - val_accuracy: 0.7829\n",
            "Epoch 11/25\n",
            "1410/1410 [==============================] - 43s 30ms/step - loss: 0.4121 - accuracy: 0.8147 - val_loss: 0.4647 - val_accuracy: 0.7846\n",
            "Epoch 12/25\n",
            "1410/1410 [==============================] - 42s 30ms/step - loss: 0.4061 - accuracy: 0.8207 - val_loss: 0.4656 - val_accuracy: 0.7803\n",
            "Epoch 13/25\n",
            "1410/1410 [==============================] - 42s 30ms/step - loss: 0.4010 - accuracy: 0.8218 - val_loss: 0.4678 - val_accuracy: 0.7801\n",
            "Epoch 14/25\n",
            "1410/1410 [==============================] - 43s 30ms/step - loss: 0.3982 - accuracy: 0.8219 - val_loss: 0.4792 - val_accuracy: 0.7814\n",
            "Epoch 15/25\n",
            "1410/1410 [==============================] - 43s 30ms/step - loss: 0.3894 - accuracy: 0.8284 - val_loss: 0.4734 - val_accuracy: 0.7812\n",
            "Epoch 16/25\n",
            "1410/1410 [==============================] - 43s 30ms/step - loss: 0.3872 - accuracy: 0.8291 - val_loss: 0.4923 - val_accuracy: 0.7769\n",
            "Epoch 17/25\n",
            "1410/1410 [==============================] - 43s 30ms/step - loss: 0.3886 - accuracy: 0.8278 - val_loss: 0.4929 - val_accuracy: 0.7790\n",
            "Epoch 18/25\n",
            "1410/1410 [==============================] - 43s 30ms/step - loss: 0.3789 - accuracy: 0.8324 - val_loss: 0.5020 - val_accuracy: 0.7777\n",
            "Epoch 19/25\n",
            "1410/1410 [==============================] - 42s 30ms/step - loss: 0.3663 - accuracy: 0.8399 - val_loss: 0.4987 - val_accuracy: 0.7761\n",
            "Epoch 20/25\n",
            "1410/1410 [==============================] - 43s 30ms/step - loss: 0.3583 - accuracy: 0.8420 - val_loss: 0.5062 - val_accuracy: 0.7735\n",
            "Epoch 21/25\n",
            "1410/1410 [==============================] - 42s 30ms/step - loss: 0.3549 - accuracy: 0.8452 - val_loss: 0.5158 - val_accuracy: 0.7699\n",
            "Epoch 22/25\n",
            "1410/1410 [==============================] - 42s 30ms/step - loss: 0.3447 - accuracy: 0.8494 - val_loss: 0.5409 - val_accuracy: 0.7722\n",
            "Epoch 23/25\n",
            "1410/1410 [==============================] - 42s 30ms/step - loss: 0.3364 - accuracy: 0.8521 - val_loss: 0.5709 - val_accuracy: 0.7691\n",
            "Epoch 24/25\n",
            "1410/1410 [==============================] - 42s 30ms/step - loss: 0.3268 - accuracy: 0.8588 - val_loss: 0.5766 - val_accuracy: 0.7685\n",
            "Epoch 25/25\n",
            "1410/1410 [==============================] - 42s 30ms/step - loss: 0.3211 - accuracy: 0.8611 - val_loss: 0.5984 - val_accuracy: 0.7684\n"
          ],
          "name": "stdout"
        }
      ]
    },
    {
      "cell_type": "code",
      "metadata": {
        "colab": {
          "base_uri": "https://localhost:8080/",
          "height": 573
        },
        "id": "iLyApUAXeGGC",
        "outputId": "2f99e249-1f3c-41c1-c431-6e85ea59960a"
      },
      "source": [
        "# Model Outputs\n",
        "\n",
        "# summarize history for accuracy\n",
        "plt.plot(history.history['accuracy'])\n",
        "plt.plot(history.history['val_accuracy'])\n",
        "plt.title('Model Accuracy')\n",
        "plt.ylabel('accuracy')\n",
        "plt.xlabel('epoch')\n",
        "plt.legend(['train', 'test'], loc='upper left')\n",
        "plt.show()\n",
        "\n",
        "# summarize history for loss\n",
        "plt.plot(history.history['loss'])\n",
        "plt.plot(history.history['val_loss'])\n",
        "plt.title('Model Loss')\n",
        "plt.ylabel('loss')\n",
        "plt.xlabel('epoch')\n",
        "plt.legend(['train', 'test'], loc='upper left')\n",
        "plt.show()"
      ],
      "execution_count": null,
      "outputs": [
        {
          "output_type": "display_data",
          "data": {
            "image/png": "[encoded data removed]",
            "text/plain": [
              "<Figure size 432x288 with 1 Axes>"
            ]
          },
          "metadata": {
            "tags": [],
            "needs_background": "light"
          }
        },
        {
          "output_type": "display_data",
          "data": {
            "image/png": "[encoded data removed]",
            "text/plain": [
              "<Figure size 432x288 with 1 Axes>"
            ]
          },
          "metadata": {
            "tags": [],
            "needs_background": "light"
          }
        }
      ]
    },
    {
      "cell_type": "code",
      "metadata": {
        "colab": {
          "base_uri": "https://localhost:8080/"
        },
        "id": "AhUthJlSO5nC",
        "outputId": "6bac2fb0-2a03-4453-f6b1-4d0371a9d7eb"
      },
      "source": [
        "accr = model.evaluate(X_test_seq_trunc ,y_test)"
      ],
      "execution_count": null,
      "outputs": [
        {
          "output_type": "stream",
          "text": [
            "186/186 [==============================] - 1s 4ms/step - loss: 1.9090 - accuracy: 0.7489\n"
          ],
          "name": "stdout"
        }
      ]
    },
    {
      "cell_type": "code",
      "metadata": {
        "colab": {
          "base_uri": "https://localhost:8080/"
        },
        "id": "woZE0tiHPLMA",
        "outputId": "7df93576-76b2-4252-a914-b6a8c5ca52a7"
      },
      "source": [
        "print('Test set\\n  Loss: {:0.3f}\\n  Accuracy: {:0.3f}'.format(accr[0],accr[1]))"
      ],
      "execution_count": null,
      "outputs": [
        {
          "output_type": "stream",
          "text": [
            "Test set\n",
            "  Loss: 1.909\n",
            "  Accuracy: 0.749\n"
          ],
          "name": "stdout"
        }
      ]
    }
  ]
}