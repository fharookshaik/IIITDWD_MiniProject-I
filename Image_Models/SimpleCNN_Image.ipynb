{
 "cells": [
  {
   "cell_type": "code",
   "execution_count": 1,
   "metadata": {},
   "outputs": [
    {
     "name": "stdout",
     "output_type": "stream",
     "text": [
      "Python 3.8.8\n"
     ]
    }
   ],
   "source": [
    "!python --version"
   ]
  },
  {
   "cell_type": "markdown",
   "metadata": {},
   "source": [
    "#### Importing necessary modules "
   ]
  },
  {
   "cell_type": "code",
   "execution_count": 1,
   "metadata": {},
   "outputs": [
    {
     "output_type": "stream",
     "name": "stdout",
     "text": [
      "2.4.1\n"
     ]
    }
   ],
   "source": [
    "# Import necessary libraries\n",
    "import os\n",
    "import pandas as pd \n",
    "import numpy as np \n",
    "import tqdm\n",
    "from pathlib import Path\n",
    "import cv2 as cv\n",
    "import PIL\n",
    "from PIL import Image,UnidentifiedImageError\n",
    "from sklearn.utils import shuffle\n",
    "import matplotlib.pyplot as plt\n",
    "from alive_progress import alive_bar\n",
    "\n",
    "import tensorflow as tf\n",
    "import keras\n",
    "from keras.models import Sequential\n",
    "from keras.layers import Conv2D,MaxPooling2D,Dense,Flatten,Dropout,Activation\n",
    "from keras.models import save_model,load_model\n",
    "\n",
    "print(tf.__version__)"
   ]
  },
  {
   "cell_type": "markdown",
   "metadata": {},
   "source": [
    "- Setting up the image size and max image pixels"
   ]
  },
  {
   "cell_type": "code",
   "execution_count": 7,
   "metadata": {},
   "outputs": [],
   "source": [
    "Image.MAX_IMAGE_PIXELS = 933120000\n",
    "IMG_SIZE = (120,120)"
   ]
  },
  {
   "cell_type": "markdown",
   "metadata": {},
   "source": [
    "- Setting up the Directories"
   ]
  },
  {
   "cell_type": "code",
   "execution_count": 8,
   "metadata": {},
   "outputs": [],
   "source": [
    "# DATASET PATHS\n",
    "DATASET_DIR = Path('NEW_DATASET_10')"
   ]
  },
  {
   "cell_type": "code",
   "execution_count": 9,
   "metadata": {},
   "outputs": [],
   "source": [
    "# Setting Up Directories\n",
    "\n",
    "# TRAIN DATA PATH\n",
    "TRAIN_CSV_PATH = os.path.join(DATASET_DIR,'TRAIN','multimodal_train.csv')\n",
    "TRAIN_IMG_PATH = os.path.join(DATASET_DIR,'TRAIN','IMAGES')\n",
    "\n",
    "# TEST DATA PATH\n",
    "TEST_CSV_PATH = os.path.join(DATASET_DIR,'TEST','multimodal_test.csv')\n",
    "TEST_IMG_PATH = os.path.join(DATASET_DIR,'TEST','IMAGES')\n",
    "\n",
    "# VALIDATE DATA PATH\n",
    "VALIDATE_CSV_PATH = os.path.join(DATASET_DIR,'VALIDATE','multimodal_validate.csv')\n",
    "VALIDATE_IMG_PATH = os.path.join(DATASET_DIR,'VALIDATE','IMAGES')\n",
    "\n",
    "# PRE_PROCESSED DATA PATHS\n",
    "PRE_PROCESSED_TRAIN_DATA_PATH = os.path.join(DATASET_DIR,'PROCESSED_DATA','train_data.npz')\n",
    "PRE_PROCESSED_TEST_DATA_PATH = os.path.join(DATASET_DIR,'PROCESSED_DATA','test_data.npz')\n",
    "PRE_PROCESSED_VALIDATE_DATA_PATH = os.path.join(DATASET_DIR,'PROCESSED_DATA','validate_data.npz')\n",
    "\n",
    "# Model Outputs\n",
    "MODEL_OUTPUT_DIR = Path()"
   ]
  },
  {
   "cell_type": "markdown",
   "metadata": {},
   "source": [
    "#### Image Preprocessing"
   ]
  },
  {
   "cell_type": "markdown",
   "metadata": {},
   "source": [
    "- Loading the Training Data "
   ]
  },
  {
   "cell_type": "code",
   "execution_count": 10,
   "metadata": {},
   "outputs": [
    {
     "output_type": "execute_result",
     "data": {
      "text/plain": [
       "   Unnamed: 0  Unnamed: 0.1       author  \\\n",
       "0      436310        436310   jessicaO_o   \n",
       "1      112761        112761          NaN   \n",
       "2      335972        335972     Duckitor   \n",
       "3      185095        185095    SuperKozz   \n",
       "4      189772        189772  nicksatdown   \n",
       "\n",
       "                                         clean_title   created_utc  \\\n",
       "0  this perfectlysized woody doll stuck to the ba...  1.569282e+09   \n",
       "1                      large man jumping into a pool  1.406789e+09   \n",
       "2  cops man sets up fake dui checkpoint gets char...  1.460131e+09   \n",
       "3                            turtle enjoying the sun  1.512896e+09   \n",
       "4  grandfather who beat three types of cancer com...  1.421564e+09   \n",
       "\n",
       "            domain  hasImage      id  \\\n",
       "0        i.redd.it      True  d8evxg   \n",
       "1     dumpaday.com      True  2c7vxd   \n",
       "2         wtae.com      True  4dwzqp   \n",
       "3        i.redd.it      True  7iszja   \n",
       "4  telegraph.co.uk      True  2st8j2   \n",
       "\n",
       "                                           image_url linked_submission_id  \\\n",
       "0  https://preview.redd.it/mss81mprifo31.jpg?widt...                  NaN   \n",
       "1  https://external-preview.redd.it/g7DkrdPEupDdZ...                  NaN   \n",
       "2  https://external-preview.redd.it/twPZ8mH_gGc--...                  NaN   \n",
       "3  https://preview.redd.it/2na6m5s382301.jpg?widt...                  NaN   \n",
       "4  https://external-preview.redd.it/FBf2kiPgNr8K5...                  NaN   \n",
       "\n",
       "   num_comments  score          subreddit  \\\n",
       "0           4.0     37  mildlyinteresting   \n",
       "1          24.0     64   photoshopbattles   \n",
       "2           0.0     36        nottheonion   \n",
       "3           5.0     11   photoshopbattles   \n",
       "4           1.0     23      upliftingnews   \n",
       "\n",
       "                                               title  upvote_ratio  \\\n",
       "0  This perfectly-sized Woody doll stuck to the b...          0.78   \n",
       "1                      Large man jumping into a pool          0.72   \n",
       "2  Cops: Man sets up fake DUI checkpoint, gets ch...          0.81   \n",
       "3                  PsBattle: Turtle enjoying the sun          0.84   \n",
       "4  Grandfather who beat three types of cancer com...          0.85   \n",
       "\n",
       "   2_way_label  3_way_label  6_way_label  \n",
       "0            1            0            0  \n",
       "1            1            0            0  \n",
       "2            1            0            0  \n",
       "3            1            0            0  \n",
       "4            1            0            0  "
      ],
      "text/html": "<div>\n<style scoped>\n    .dataframe tbody tr th:only-of-type {\n        vertical-align: middle;\n    }\n\n    .dataframe tbody tr th {\n        vertical-align: top;\n    }\n\n    .dataframe thead th {\n        text-align: right;\n    }\n</style>\n<table border=\"1\" class=\"dataframe\">\n  <thead>\n    <tr style=\"text-align: right;\">\n      <th></th>\n      <th>Unnamed: 0</th>\n      <th>Unnamed: 0.1</th>\n      <th>author</th>\n      <th>clean_title</th>\n      <th>created_utc</th>\n      <th>domain</th>\n      <th>hasImage</th>\n      <th>id</th>\n      <th>image_url</th>\n      <th>linked_submission_id</th>\n      <th>num_comments</th>\n      <th>score</th>\n      <th>subreddit</th>\n      <th>title</th>\n      <th>upvote_ratio</th>\n      <th>2_way_label</th>\n      <th>3_way_label</th>\n      <th>6_way_label</th>\n    </tr>\n  </thead>\n  <tbody>\n    <tr>\n      <th>0</th>\n      <td>436310</td>\n      <td>436310</td>\n      <td>jessicaO_o</td>\n      <td>this perfectlysized woody doll stuck to the ba...</td>\n      <td>1.569282e+09</td>\n      <td>i.redd.it</td>\n      <td>True</td>\n      <td>d8evxg</td>\n      <td>https://preview.redd.it/mss81mprifo31.jpg?widt...</td>\n      <td>NaN</td>\n      <td>4.0</td>\n      <td>37</td>\n      <td>mildlyinteresting</td>\n      <td>This perfectly-sized Woody doll stuck to the b...</td>\n      <td>0.78</td>\n      <td>1</td>\n      <td>0</td>\n      <td>0</td>\n    </tr>\n    <tr>\n      <th>1</th>\n      <td>112761</td>\n      <td>112761</td>\n      <td>NaN</td>\n      <td>large man jumping into a pool</td>\n      <td>1.406789e+09</td>\n      <td>dumpaday.com</td>\n      <td>True</td>\n      <td>2c7vxd</td>\n      <td>https://external-preview.redd.it/g7DkrdPEupDdZ...</td>\n      <td>NaN</td>\n      <td>24.0</td>\n      <td>64</td>\n      <td>photoshopbattles</td>\n      <td>Large man jumping into a pool</td>\n      <td>0.72</td>\n      <td>1</td>\n      <td>0</td>\n      <td>0</td>\n    </tr>\n    <tr>\n      <th>2</th>\n      <td>335972</td>\n      <td>335972</td>\n      <td>Duckitor</td>\n      <td>cops man sets up fake dui checkpoint gets char...</td>\n      <td>1.460131e+09</td>\n      <td>wtae.com</td>\n      <td>True</td>\n      <td>4dwzqp</td>\n      <td>https://external-preview.redd.it/twPZ8mH_gGc--...</td>\n      <td>NaN</td>\n      <td>0.0</td>\n      <td>36</td>\n      <td>nottheonion</td>\n      <td>Cops: Man sets up fake DUI checkpoint, gets ch...</td>\n      <td>0.81</td>\n      <td>1</td>\n      <td>0</td>\n      <td>0</td>\n    </tr>\n    <tr>\n      <th>3</th>\n      <td>185095</td>\n      <td>185095</td>\n      <td>SuperKozz</td>\n      <td>turtle enjoying the sun</td>\n      <td>1.512896e+09</td>\n      <td>i.redd.it</td>\n      <td>True</td>\n      <td>7iszja</td>\n      <td>https://preview.redd.it/2na6m5s382301.jpg?widt...</td>\n      <td>NaN</td>\n      <td>5.0</td>\n      <td>11</td>\n      <td>photoshopbattles</td>\n      <td>PsBattle: Turtle enjoying the sun</td>\n      <td>0.84</td>\n      <td>1</td>\n      <td>0</td>\n      <td>0</td>\n    </tr>\n    <tr>\n      <th>4</th>\n      <td>189772</td>\n      <td>189772</td>\n      <td>nicksatdown</td>\n      <td>grandfather who beat three types of cancer com...</td>\n      <td>1.421564e+09</td>\n      <td>telegraph.co.uk</td>\n      <td>True</td>\n      <td>2st8j2</td>\n      <td>https://external-preview.redd.it/FBf2kiPgNr8K5...</td>\n      <td>NaN</td>\n      <td>1.0</td>\n      <td>23</td>\n      <td>upliftingnews</td>\n      <td>Grandfather who beat three types of cancer com...</td>\n      <td>0.85</td>\n      <td>1</td>\n      <td>0</td>\n      <td>0</td>\n    </tr>\n  </tbody>\n</table>\n</div>"
     },
     "metadata": {},
     "execution_count": 10
    }
   ],
   "source": [
    "train_csv_df = pd.read_csv(TRAIN_CSV_PATH,low_memory=False)\n",
    "train_csv_df.head()"
   ]
  },
  {
   "cell_type": "markdown",
   "metadata": {},
   "source": [
    "- Check for skewness"
   ]
  },
  {
   "cell_type": "code",
   "execution_count": 11,
   "metadata": {},
   "outputs": [],
   "source": [
    "grouped_df = train_csv_df.groupby(['2_way_label'])\n",
    "true_df = grouped_df.get_group(1)\n",
    "false_df = grouped_df.get_group(0)"
   ]
  },
  {
   "cell_type": "code",
   "execution_count": 12,
   "metadata": {},
   "outputs": [
    {
     "output_type": "stream",
     "name": "stdout",
     "text": [
      "(28200, 18)\n(28200, 18)\n"
     ]
    }
   ],
   "source": [
    "print(true_df.shape)\n",
    "print(false_df.shape)"
   ]
  },
  {
   "cell_type": "markdown",
   "metadata": {},
   "source": [
    "- Extracting only necessary fields from dataset"
   ]
  },
  {
   "cell_type": "code",
   "execution_count": 13,
   "metadata": {},
   "outputs": [
    {
     "output_type": "stream",
     "name": "stdout",
     "text": [
      "(56400, 2)\n"
     ]
    },
    {
     "output_type": "execute_result",
     "data": {
      "text/plain": [
       "            id  2_way_label\n",
       "44771   90f69w            0\n",
       "3754    86spl5            1\n",
       "4960    13nri7            1\n",
       "50598  dc8zn4a            0\n",
       "41337  cjjosiu            0"
      ],
      "text/html": "<div>\n<style scoped>\n    .dataframe tbody tr th:only-of-type {\n        vertical-align: middle;\n    }\n\n    .dataframe tbody tr th {\n        vertical-align: top;\n    }\n\n    .dataframe thead th {\n        text-align: right;\n    }\n</style>\n<table border=\"1\" class=\"dataframe\">\n  <thead>\n    <tr style=\"text-align: right;\">\n      <th></th>\n      <th>id</th>\n      <th>2_way_label</th>\n    </tr>\n  </thead>\n  <tbody>\n    <tr>\n      <th>44771</th>\n      <td>90f69w</td>\n      <td>0</td>\n    </tr>\n    <tr>\n      <th>3754</th>\n      <td>86spl5</td>\n      <td>1</td>\n    </tr>\n    <tr>\n      <th>4960</th>\n      <td>13nri7</td>\n      <td>1</td>\n    </tr>\n    <tr>\n      <th>50598</th>\n      <td>dc8zn4a</td>\n      <td>0</td>\n    </tr>\n    <tr>\n      <th>41337</th>\n      <td>cjjosiu</td>\n      <td>0</td>\n    </tr>\n  </tbody>\n</table>\n</div>"
     },
     "metadata": {},
     "execution_count": 13
    }
   ],
   "source": [
    "train_df = shuffle(train_csv_df[['id','2_way_label']])\n",
    "print(train_df.shape)\n",
    "train_df.head()"
   ]
  },
  {
   "cell_type": "markdown",
   "metadata": {},
   "source": [
    "- Function to check wether the loaded image is corrupted or not?"
   ]
  },
  {
   "cell_type": "code",
   "execution_count": 14,
   "metadata": {},
   "outputs": [],
   "source": [
    "def isImgCorrupted(img):\n",
    "    try:\n",
    "        im = Image.open(img)\n",
    "        im.verify()\n",
    "        return False\n",
    "\n",
    "    except FileNotFoundError:\n",
    "        return True\n",
    "    \n",
    "    except SyntaxError:\n",
    "        return True\n",
    "    \n",
    "    except PIL.UnidentifiedImageError:\n",
    "        return True"
   ]
  },
  {
   "cell_type": "code",
   "execution_count": 15,
   "metadata": {},
   "outputs": [
    {
     "output_type": "stream",
     "name": "stdout",
     "text": [
      "Index: 44771\nIMG = 90f69w, Label = 0\nIndex: 3754\nIMG = 86spl5, Label = 1\nIndex: 4960\nIMG = 13nri7, Label = 1\nIndex: 50598\nIMG = dc8zn4a, Label = 0\nIndex: 41337\nIMG = cjjosiu, Label = 0\n"
     ]
    }
   ],
   "source": [
    "# TESTING PURPOSES\n",
    "for i, row in train_df.head().iterrows():\n",
    "    print('Index: {}'.format(i))\n",
    "    img, label = row.tolist()\n",
    "    print(f'IMG = {img}, Label = {label}')\n",
    "\n",
    "# img,label = train_csv_df.loc[0,['id','2_way_label']].tolist()\n",
    "# # train_df.shape\n",
    "# img, label"
   ]
  },
  {
   "cell_type": "markdown",
   "metadata": {},
   "source": [
    "- Function to preprocess the dataframe to required fields\n",
    "    - Checks for Image Corruption\n",
    "    - Converts the Image data to numpy array\n",
    "    - Returns\n",
    "        - X -> contains all the image data \n",
    "        - Y -> contains the labels of images\n",
    "        - id -> id's of the respective images"
   ]
  },
  {
   "cell_type": "code",
   "execution_count": 16,
   "metadata": {},
   "outputs": [],
   "source": [
    "def preprocessImageData(df,IMG_PATH):\n",
    "    X = []\n",
    "    y = []\n",
    "    id = []\n",
    " \n",
    "    with alive_bar(df.shape[0],title='Processing Image Data') as pbar:\n",
    "        for i, row in df.iterrows():\n",
    "            img, label = row.tolist()\n",
    "            impath = os.path.join(IMG_PATH, f'{img}.jpg')\n",
    "            try:\n",
    "                if not isImgCorrupted(impath):\n",
    "                    imarray = cv.imread(impath, cv.IMREAD_GRAYSCALE)\n",
    "                    if imarray is not None:\n",
    "                        new_imarray = cv.resize(imarray, IMG_SIZE)\n",
    "                        X.append(new_imarray)\n",
    "                        y.append(label)\n",
    "                        id.append(img)\n",
    "    \n",
    "            except Exception as e:\n",
    "                print(f\"{img}: {e}\")\n",
    "            pbar()\n",
    "    # for i, row in df.iterrows():\n",
    "    #     img, label = row.tolist()\n",
    "    #     impath = os.path.join(IMG_PATH, f'{img}.jpg')\n",
    "    #     try:\n",
    "    #         if not isImgCorrupted(impath):\n",
    "    #             imarray = cv.imread(impath, cv.IMREAD_GRAYSCALE)\n",
    "    #             if imarray is not None:\n",
    "    #                 new_imarray = cv.resize(imarray, IMG_SIZE)\n",
    "    #                 X.append(new_imarray)\n",
    "    #                 y.append(label)\n",
    "    #                 id.append(img)\n",
    " \n",
    "    #     except Exception as e:\n",
    "    #         print(f\"{img}: {e}\")\n",
    " \n",
    "    # Converting X, y,id to numpy array\n",
    "    X = np.array(X).reshape(-1,120,120,1)\n",
    "    y = np.array(y)\n",
    "    id = np.array(id)\n",
    " \n",
    "    # Normalize X\n",
    "    X = X / 255.0\n",
    " \n",
    "    return (X,y,id)"
   ]
  },
  {
   "cell_type": "markdown",
   "metadata": {},
   "source": [
    "- Preprocessing the Training dataset"
   ]
  },
  {
   "cell_type": "code",
   "execution_count": 17,
   "metadata": {
    "tags": []
   },
   "outputs": [
    {
     "output_type": "execute_result",
     "data": {
      "text/plain": [
       "(56357, 120, 120, 1)"
      ]
     },
     "metadata": {},
     "execution_count": 17
    }
   ],
   "source": [
    "X_train, y_train, _ = preprocessImageData(train_df,TRAIN_IMG_PATH)\n",
    "X_train.shape"
   ]
  },
  {
   "cell_type": "code",
   "execution_count": 14,
   "metadata": {},
   "outputs": [],
   "source": [
    "# # Save the training data\n",
    "# np.save(r'Image_Processing\\X_train.npy',X_train)\n",
    "# np.save(r'Image_Processing\\y_train.npy',y_train)"
   ]
  },
  {
   "cell_type": "code",
   "execution_count": 15,
   "metadata": {},
   "outputs": [],
   "source": [
    "# Loading the training data. Use only in need\n",
    "\n",
    "# data = np.load(PRE_PROCESSED_TRAIN_DATA_PATH)\n",
    "# X_train = data['x']\n",
    "# y_train = data['y']\n",
    "# print(X_train.shape)\n",
    "# print(y_train.shape)"
   ]
  },
  {
   "cell_type": "code",
   "execution_count": 18,
   "metadata": {},
   "outputs": [],
   "source": [
    "input_shape = X_train.shape[1:]"
   ]
  },
  {
   "cell_type": "markdown",
   "metadata": {},
   "source": [
    "### Defining & Training the model"
   ]
  },
  {
   "cell_type": "markdown",
   "metadata": {},
   "source": [
    "#### Defining the model with l2 regularizer"
   ]
  },
  {
   "cell_type": "code",
   "execution_count": 2,
   "metadata": {},
   "outputs": [],
   "source": [
    "# Defining the model\n",
    "\n",
    "model = Sequential()\n",
    "# Adding a densely-connected layer with 64 units to the model\n",
    "model.add(Conv2D(64, (3,3), activation='relu',input_shape=(120,120,1),kernel_regularizer='l2'))\n",
    "model.add(MaxPooling2D(pool_size = (2,2)))\n",
    "# Add another\n",
    "model.add(Conv2D(64, (3,3), activation='relu',kernel_regularizer='l2'))\n",
    "model.add(MaxPooling2D(pool_size=(2,2)))\n",
    "\n",
    "model.add(Flatten())\n",
    "model.add(Dense(64,activation='relu'))\n",
    "\n",
    "model.add(Dense(1, activation='sigmoid'))\n",
    "\n",
    "model.compile(optimizer='adam',\n",
    "                loss='binary_crossentropy',\n",
    "                metrics=['accuracy'])"
   ]
  },
  {
   "cell_type": "code",
   "execution_count": 9,
   "metadata": {},
   "outputs": [
    {
     "output_type": "execute_result",
     "data": {
      "image/png": "[encoded data removed]",
      "text/plain": [
       "<IPython.core.display.Image object>"
      ]
     },
     "metadata": {},
     "execution_count": 9
    }
   ],
   "source": [
    "from keras.utils import plot_model\n",
    "\n",
    "plot_model(model,show_layer_names=True,show_shapes=False)"
   ]
  },
  {
   "cell_type": "code",
   "execution_count": 18,
   "metadata": {},
   "outputs": [],
   "source": [
    "# model = Sequential()\n",
    "\n",
    "# # Adding a densely-connected layer with 64 units to the model\n",
    "# model.add(Conv2D(64, (3,3), activation='relu',input_shape=input_shape,kernel_regularizer='l2'))\n",
    "# model.add(MaxPooling2D(pool_size = (2,2)))\n",
    "# # Add another\n",
    "# model.add(Conv2D(64, (3,3), activation='relu',kernel_regularizer='l2'))\n",
    "# model.add(MaxPooling2D(pool_size=(2,2)))\n",
    "# # Add another\n",
    "# model.add(Conv2D(64, (3,3), activation='relu',kernel_regularizer='l2'))\n",
    "# model.add(MaxPooling2D(pool_size=(2,2)))\n",
    "# # Add another\n",
    "# model.add(Conv2D(64, (3,3), activation='relu',kernel_regularizer='l2'))\n",
    "# model.add(MaxPooling2D(pool_size=(2,2)))\n",
    "\n",
    "# model.add(Flatten())\n",
    "\n",
    "# for i in range(4):\n",
    "#     model.add(Dense(64,activation='relu'))\n",
    "\n",
    "# model.add(Dense(1, activation='sigmoid'))\n",
    "\n",
    "# model.compile(optimizer='adam',\n",
    "#                     loss='binary_crossentropy',\n",
    "#                     metrics=['accuracy'])"
   ]
  },
  {
   "cell_type": "code",
   "execution_count": 19,
   "metadata": {},
   "outputs": [],
   "source": [
    "model.summary()"
   ]
  },
  {
   "cell_type": "markdown",
   "metadata": {},
   "source": [
    "- Model Training"
   ]
  },
  {
   "cell_type": "code",
   "execution_count": 20,
   "metadata": {},
   "outputs": [
    {
     "ename": "ValueError",
     "evalue": "Training data contains 0 samples, which is not sufficient to split it into a validation and training set as specified by `validation_split=0.2`. Either provide more data, or a different value for the `validation_split` argument.",
     "output_type": "error",
     "traceback": [
      "\u001b[1;31m---------------------------------------------------------------------------\u001b[0m",
      "\u001b[1;31mValueError\u001b[0m                                Traceback (most recent call last)",
      "\u001b[1;32m<ipython-input-20-d7a18a7ad35e>\u001b[0m in \u001b[0;36m<module>\u001b[1;34m\u001b[0m\n\u001b[1;32m----> 1\u001b[1;33m \u001b[0mmodel_history\u001b[0m \u001b[1;33m=\u001b[0m \u001b[0mmodel\u001b[0m\u001b[1;33m.\u001b[0m\u001b[0mfit\u001b[0m\u001b[1;33m(\u001b[0m\u001b[0mX_train\u001b[0m\u001b[1;33m,\u001b[0m \u001b[0my_train\u001b[0m\u001b[1;33m,\u001b[0m \u001b[0mepochs\u001b[0m\u001b[1;33m=\u001b[0m\u001b[1;36m20\u001b[0m\u001b[1;33m,\u001b[0m \u001b[0mbatch_size\u001b[0m\u001b[1;33m=\u001b[0m\u001b[1;36m32\u001b[0m\u001b[1;33m,\u001b[0m \u001b[0mvalidation_split\u001b[0m\u001b[1;33m=\u001b[0m\u001b[1;36m0.2\u001b[0m\u001b[1;33m)\u001b[0m\u001b[1;33m\u001b[0m\u001b[1;33m\u001b[0m\u001b[0m\n\u001b[0m",
      "\u001b[1;32m~\\AppData\\Local\\Programs\\Python\\Python38\\lib\\site-packages\\tensorflow\\python\\keras\\engine\\training.py\u001b[0m in \u001b[0;36mfit\u001b[1;34m(self, x, y, batch_size, epochs, verbose, callbacks, validation_split, validation_data, shuffle, class_weight, sample_weight, initial_epoch, steps_per_epoch, validation_steps, validation_batch_size, validation_freq, max_queue_size, workers, use_multiprocessing)\u001b[0m\n\u001b[0;32m   1038\u001b[0m       \u001b[1;31m# `Tensor` and `NumPy` input.\u001b[0m\u001b[1;33m\u001b[0m\u001b[1;33m\u001b[0m\u001b[1;33m\u001b[0m\u001b[0m\n\u001b[0;32m   1039\u001b[0m       (x, y, sample_weight), validation_data = (\n\u001b[1;32m-> 1040\u001b[1;33m           data_adapter.train_validation_split(\n\u001b[0m\u001b[0;32m   1041\u001b[0m               (x, y, sample_weight), validation_split=validation_split))\n\u001b[0;32m   1042\u001b[0m \u001b[1;33m\u001b[0m\u001b[0m\n",
      "\u001b[1;32m~\\AppData\\Local\\Programs\\Python\\Python38\\lib\\site-packages\\tensorflow\\python\\keras\\engine\\data_adapter.py\u001b[0m in \u001b[0;36mtrain_validation_split\u001b[1;34m(arrays, validation_split)\u001b[0m\n\u001b[0;32m   1373\u001b[0m \u001b[1;33m\u001b[0m\u001b[0m\n\u001b[0;32m   1374\u001b[0m   \u001b[1;32mif\u001b[0m \u001b[0msplit_at\u001b[0m \u001b[1;33m==\u001b[0m \u001b[1;36m0\u001b[0m \u001b[1;32mor\u001b[0m \u001b[0msplit_at\u001b[0m \u001b[1;33m==\u001b[0m \u001b[0mbatch_dim\u001b[0m\u001b[1;33m:\u001b[0m\u001b[1;33m\u001b[0m\u001b[1;33m\u001b[0m\u001b[0m\n\u001b[1;32m-> 1375\u001b[1;33m     raise ValueError(\n\u001b[0m\u001b[0;32m   1376\u001b[0m         \u001b[1;34m\"Training data contains {batch_dim} samples, which is not sufficient \"\u001b[0m\u001b[1;33m\u001b[0m\u001b[1;33m\u001b[0m\u001b[0m\n\u001b[0;32m   1377\u001b[0m         \u001b[1;34m\"to split it into a validation and training set as specified by \"\u001b[0m\u001b[1;33m\u001b[0m\u001b[1;33m\u001b[0m\u001b[0m\n",
      "\u001b[1;31mValueError\u001b[0m: Training data contains 0 samples, which is not sufficient to split it into a validation and training set as specified by `validation_split=0.2`. Either provide more data, or a different value for the `validation_split` argument."
     ]
    }
   ],
   "source": [
    "model_history = model.fit(X_train, y_train, epochs=20, batch_size=32, validation_split=0.2)"
   ]
  },
  {
   "cell_type": "markdown",
   "metadata": {},
   "source": [
    "- Displaying the accuracy & loss"
   ]
  },
  {
   "cell_type": "code",
   "execution_count": null,
   "metadata": {},
   "outputs": [],
   "source": [
    "# for model\n",
    "# summarize history for accuracy\n",
    "plt.plot(model_history.history['accuracy'])\n",
    "plt.plot(model_history.history['val_accuracy'])\n",
    "plt.title('Model Accuracy')\n",
    "plt.ylabel('accuracy')\n",
    "plt.xlabel('epoch')\n",
    "plt.legend(['train', 'test'], loc='upper left')\n",
    "plt.show()\n",
    "# plt.savefig('Image_Processing_Outputs\\model_accuracy.pdf')\n",
    "\n",
    "# summarize history for loss\n",
    "plt.plot(model_history.history['loss'])\n",
    "plt.plot(model_history.history['val_loss'])\n",
    "plt.title('Model Loss')\n",
    "plt.ylabel('loss')\n",
    "plt.xlabel('epoch')\n",
    "plt.legend(['train', 'test'], loc='upper left')\n",
    "\n",
    "plt.show()\n",
    "# plt.savefig('Image_Processing_Outputs\\model_loss.pdf')"
   ]
  },
  {
   "cell_type": "markdown",
   "metadata": {},
   "source": [
    "- Saving the model "
   ]
  },
  {
   "cell_type": "code",
   "execution_count": null,
   "metadata": {},
   "outputs": [],
   "source": [
    "model.save(r'Image_Processing\\model.h5')"
   ]
  },
  {
   "cell_type": "markdown",
   "metadata": {},
   "source": [
    "- Load back model"
   ]
  },
  {
   "cell_type": "code",
   "execution_count": null,
   "metadata": {},
   "outputs": [],
   "source": [
    "# model = load_model(r'Image_Processing\\model.h5')\n",
    "# model.summary()"
   ]
  },
  {
   "cell_type": "markdown",
   "metadata": {},
   "source": [
    "- Predicting Test set"
   ]
  },
  {
   "cell_type": "code",
   "execution_count": null,
   "metadata": {},
   "outputs": [],
   "source": [
    "# Test\n",
    "test_csv_df = pd.read_csv(TEST_CSV_PATH)\n",
    "test_csv_df.head()"
   ]
  },
  {
   "cell_type": "code",
   "execution_count": null,
   "metadata": {},
   "outputs": [],
   "source": [
    "test_df = test_csv_df[['id','2_way_label']]\n",
    "test_df.head()"
   ]
  },
  {
   "cell_type": "code",
   "execution_count": null,
   "metadata": {},
   "outputs": [],
   "source": [
    "X_test, y_test, id = preprocessImageData(test_df, TEST_IMG_FOLDER_PATH)\n",
    "X_test.shape"
   ]
  },
  {
   "cell_type": "code",
   "execution_count": null,
   "metadata": {},
   "outputs": [],
   "source": [
    "# # Save the Text data\n",
    "# np.save(r'Image_Processing\\X_test.npy',X_test)\n",
    "# np.save(r'Image_Processing\\y_test.npy',y_test)\n",
    "# np.save(r'Image_Processing\\id.npy',id)"
   ]
  },
  {
   "cell_type": "code",
   "execution_count": null,
   "metadata": {},
   "outputs": [],
   "source": [
    "# Load the Text Data\n",
    "\n",
    "# data = np.load(PRE_PROCESSED_TEST_DATA_PATH)\n",
    "# X_test,y_test,id = data['x'],data['y'],data['id']\n",
    "# print(X_test.shape[1:])\n",
    "# print(y_test.shape[1:])"
   ]
  },
  {
   "cell_type": "code",
   "execution_count": null,
   "metadata": {},
   "outputs": [],
   "source": [
    "predictions = model.predict(X_test)"
   ]
  },
  {
   "cell_type": "code",
   "execution_count": null,
   "metadata": {},
   "outputs": [],
   "source": [
    "# Rounding the results\n",
    "predicted_val = [int(round(p[0])) for p in predictions]"
   ]
  },
  {
   "cell_type": "code",
   "execution_count": null,
   "metadata": {},
   "outputs": [],
   "source": [
    "results_dict = {\n",
    "    'Image ID' : id,\n",
    "    'Correct O/P' : y_test,\n",
    "    'Predicted O/P' : predicted_val\n",
    "}"
   ]
  },
  {
   "cell_type": "code",
   "execution_count": null,
   "metadata": {},
   "outputs": [],
   "source": [
    "result_df = pd.DataFrame(results_dict)\n",
    "result_df.to_csv('Image_Processing_Simple_CNN_Results.csv', index=False)"
   ]
  },
  {
   "cell_type": "code",
   "execution_count": null,
   "metadata": {},
   "outputs": [],
   "source": [
    "result_df.head()"
   ]
  }
 ],
 "metadata": {
  "kernelspec": {
   "name": "python388jvsc74a57bd0d4180bf7152e7c6f8a3ea8742aba052dd041fa5880fbd19b9b10502a787e45a0",
   "display_name": "Python 3.8.8 64-bit"
  },
  "language_info": {
   "codemirror_mode": {
    "name": "ipython",
    "version": 3
   },
   "file_extension": ".py",
   "mimetype": "text/x-python",
   "name": "python",
   "nbconvert_exporter": "python",
   "pygments_lexer": "ipython3",
   "version": "3.8.8"
  }
 },
 "nbformat": 4,
 "nbformat_minor": 4
}